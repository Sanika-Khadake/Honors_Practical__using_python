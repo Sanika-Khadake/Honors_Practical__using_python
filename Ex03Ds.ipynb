{
 "cells": [
  {
   "cell_type": "code",
   "execution_count": 1,
   "id": "b59b3e51-46f9-46ac-a121-d210655519ef",
   "metadata": {},
   "outputs": [],
   "source": [
    "import numpy as np\n",
    "import array as arr"
   ]
  },
  {
   "cell_type": "code",
   "execution_count": 5,
   "id": "c9d30355-0363-4602-972d-955766501d03",
   "metadata": {},
   "outputs": [],
   "source": [
    "a=np.array([10.2,25.5,0.2,36.5,25,np.nan,50.2])"
   ]
  },
  {
   "cell_type": "code",
   "execution_count": 6,
   "id": "d7b3fe16-7f12-4b99-ae7c-a75182521eb5",
   "metadata": {},
   "outputs": [
    {
     "name": "stdout",
     "output_type": "stream",
     "text": [
      "[10.2 25.5  0.2 36.5 25.   nan 50.2]\n"
     ]
    }
   ],
   "source": [
    "print(a)"
   ]
  },
  {
   "cell_type": "code",
   "execution_count": 7,
   "id": "d37e3c22-f758-430c-ae75-62261aef28f1",
   "metadata": {},
   "outputs": [
    {
     "data": {
      "text/plain": [
       "7"
      ]
     },
     "execution_count": 7,
     "metadata": {},
     "output_type": "execute_result"
    }
   ],
   "source": [
    "a.size"
   ]
  },
  {
   "cell_type": "code",
   "execution_count": 16,
   "id": "24b8b0e3-7655-476a-8b63-3c34d4a9599b",
   "metadata": {},
   "outputs": [
    {
     "name": "stdout",
     "output_type": "stream",
     "text": [
      "maximum :- 50.2\n"
     ]
    }
   ],
   "source": [
    "#find maximum from array contaning null values\n",
    "print('maximum :-',np.nanmax(a))"
   ]
  },
  {
   "cell_type": "code",
   "execution_count": 15,
   "id": "b14ddb3f-dc1d-47d1-ae3c-2580f22cacdf",
   "metadata": {},
   "outputs": [
    {
     "name": "stdout",
     "output_type": "stream",
     "text": [
      "minimum :- 0.2\n"
     ]
    }
   ],
   "source": [
    "#find maximum from array contaning null values\n",
    "print('minimum :-',np.nanmin(a))"
   ]
  },
  {
   "cell_type": "code",
   "execution_count": 17,
   "id": "828a8015-6d23-4691-85e7-49325d50c949",
   "metadata": {},
   "outputs": [
    {
     "name": "stdout",
     "output_type": "stream",
     "text": [
      "Sum :- 147.60000000000002\n"
     ]
    }
   ],
   "source": [
    "#find sum of array contaning null values\n",
    "print('Sum :-',np.nansum(a))"
   ]
  },
  {
   "cell_type": "code",
   "execution_count": 18,
   "id": "9fca3a94-8779-442f-8ed8-eb7b73e82e2c",
   "metadata": {},
   "outputs": [
    {
     "name": "stdout",
     "output_type": "stream",
     "text": [
      "minimum :- 21.08571428571429\n"
     ]
    }
   ],
   "source": [
    "#find avarage of array contaning null values\n",
    "print('minimum :-',np.nansum(a)/a.size)"
   ]
  },
  {
   "cell_type": "code",
   "execution_count": 20,
   "id": "f7456b39-2a46-4f56-be10-83132d3f345a",
   "metadata": {},
   "outputs": [
    {
     "name": "stdout",
     "output_type": "stream",
     "text": [
      "[ 50 100  25  90  98  88]\n"
     ]
    }
   ],
   "source": [
    "b=np.array([50,100,25,90,98,88])\n",
    "print(b)"
   ]
  },
  {
   "cell_type": "code",
   "execution_count": 21,
   "id": "91567729-a31a-44f4-a80c-81220bede02f",
   "metadata": {},
   "outputs": [
    {
     "name": "stdout",
     "output_type": "stream",
     "text": [
      "maximum :- 100\n"
     ]
    }
   ],
   "source": [
    "#find maximum from array\n",
    "print('maximum :-',np.max(b))"
   ]
  },
  {
   "cell_type": "code",
   "execution_count": 23,
   "id": "3b1128a8-d739-490e-bb15-b040f6fa2103",
   "metadata": {},
   "outputs": [
    {
     "name": "stdout",
     "output_type": "stream",
     "text": [
      "minimum :- 25\n"
     ]
    }
   ],
   "source": [
    "#find minimum from array\n",
    "print('minimum :-',np.min(b))"
   ]
  },
  {
   "cell_type": "code",
   "execution_count": 24,
   "id": "b8ee002f-4776-40cf-b1b9-d7b6d3fb8941",
   "metadata": {},
   "outputs": [
    {
     "name": "stdout",
     "output_type": "stream",
     "text": [
      "Sum :- 451\n"
     ]
    }
   ],
   "source": [
    "#find sum of array\n",
    "print('Sum :-',np.sum(b))"
   ]
  },
  {
   "cell_type": "code",
   "execution_count": 26,
   "id": "7175e94c-2dd3-49dc-a930-02aeac6a1c3f",
   "metadata": {},
   "outputs": [
    {
     "name": "stdout",
     "output_type": "stream",
     "text": [
      "avarage :- 75.16666666666667\n"
     ]
    }
   ],
   "source": [
    "#find avarage ofarray\n",
    "print('avarage :-',np.sum(b)/b.size)"
   ]
  },
  {
   "cell_type": "code",
   "execution_count": null,
   "id": "ef3c4a63-af09-4c98-8a12-219990517629",
   "metadata": {},
   "outputs": [],
   "source": []
  }
 ],
 "metadata": {
  "kernelspec": {
   "display_name": "Python 3 (ipykernel)",
   "language": "python",
   "name": "python3"
  },
  "language_info": {
   "codemirror_mode": {
    "name": "ipython",
    "version": 3
   },
   "file_extension": ".py",
   "mimetype": "text/x-python",
   "name": "python",
   "nbconvert_exporter": "python",
   "pygments_lexer": "ipython3",
   "version": "3.12.4"
  }
 },
 "nbformat": 4,
 "nbformat_minor": 5
}
