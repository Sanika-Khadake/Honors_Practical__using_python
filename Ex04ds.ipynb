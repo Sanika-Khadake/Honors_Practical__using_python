{
 "cells": [
  {
   "cell_type": "code",
   "execution_count": 1,
   "id": "8b79bef7-d95c-45d4-9f8f-dbcefa7cd3c9",
   "metadata": {},
   "outputs": [],
   "source": [
    "#Write a Python program to demonstrate basic operations on single array and multiple arrays\n",
    "#How to Create Multi-Dimensional Arrays Using NumPy\n",
    "import numpy as np\n",
    "import array as arr"
   ]
  },
  {
   "cell_type": "code",
   "execution_count": 4,
   "id": "999e9006-26ff-4832-8ec4-6e436d18d92f",
   "metadata": {},
   "outputs": [
    {
     "name": "stdout",
     "output_type": "stream",
     "text": [
      "[[1 2 3]\n",
      " [4 5 6]\n",
      " [7 8 9]]\n"
     ]
    }
   ],
   "source": [
    "a=np.array([[1,2,3],[4,5,6],[7,8,9]])\n",
    "print(a)"
   ]
  },
  {
   "cell_type": "code",
   "execution_count": 5,
   "id": "90888f5e-4872-4054-8903-670be587d11a",
   "metadata": {},
   "outputs": [],
   "source": [
    "# Create a 2-dimensional array with 3 rows and 4 columns\n",
    "arr = np.array([[1, 2, 3, 4], [5, 6, 7, 8], [9, 10, 11, 12]])"
   ]
  },
  {
   "cell_type": "code",
   "execution_count": 6,
   "id": "8405bfc3-7020-486e-96c9-fabc112e6139",
   "metadata": {},
   "outputs": [
    {
     "name": "stdout",
     "output_type": "stream",
     "text": [
      "[[ 1  2  3  4]\n",
      " [ 5  6  7  8]\n",
      " [ 9 10 11 12]]\n"
     ]
    }
   ],
   "source": [
    "# Print the array\n",
    "print(arr)"
   ]
  },
  {
   "cell_type": "code",
   "execution_count": 7,
   "id": "b736b0a3-098f-4e55-a6f0-b9114a394c51",
   "metadata": {},
   "outputs": [
    {
     "name": "stdout",
     "output_type": "stream",
     "text": [
      "[['Sanika' 'Komal' 'Rutuja']\n",
      " ['Pragati' 'sonal' 'shweta']\n",
      " ['Dhanu' 'poonam' 'Tajal']]\n"
     ]
    }
   ],
   "source": [
    "a=np.array([['Sanika','Komal','Rutuja'],['Pragati','sonal','shweta'],['Dhanu','poonam','Tajal']])\n",
    "print(a)"
   ]
  },
  {
   "cell_type": "code",
   "execution_count": 8,
   "id": "33a0c8ba-5aa6-428b-8775-3877330aeeec",
   "metadata": {},
   "outputs": [],
   "source": [
    "# Create a 2-dimensional array with 3 rows and 4 columns\n",
    "b = np.array([[1, 2, 3, 4], [5, 6, 7, 8], [9, 10, 11, 12]])"
   ]
  },
  {
   "cell_type": "code",
   "execution_count": 9,
   "id": "4add03a1-6b3d-48ba-9c51-1ed19bab113b",
   "metadata": {},
   "outputs": [
    {
     "name": "stdout",
     "output_type": "stream",
     "text": [
      "7\n"
     ]
    }
   ],
   "source": [
    "# Access an element at row 1, column 2\n",
    "print(b[1, 2])"
   ]
  },
  {
   "cell_type": "code",
   "execution_count": 10,
   "id": "3c12159e-6cf9-4bff-b8ad-bc40a185991f",
   "metadata": {},
   "outputs": [],
   "source": [
    "# Modify an element at row 0, column 3\n",
    "b[0, 3] = 20"
   ]
  },
  {
   "cell_type": "code",
   "execution_count": 11,
   "id": "1e37d077-cf67-4787-b1a3-20ea16061570",
   "metadata": {},
   "outputs": [
    {
     "name": "stdout",
     "output_type": "stream",
     "text": [
      "[[ 1  2  3 20]\n",
      " [ 5  6  7  8]\n",
      " [ 9 10 11 12]]\n"
     ]
    }
   ],
   "source": [
    "\n",
    "# Print the modified array\n",
    "print(b)"
   ]
  },
  {
   "cell_type": "code",
   "execution_count": 13,
   "id": "50521ce6-2f81-490d-ad3b-fb3922437228",
   "metadata": {},
   "outputs": [
    {
     "name": "stdout",
     "output_type": "stream",
     "text": [
      "78\n"
     ]
    }
   ],
   "source": [
    "# Calculate the sum of all elements\n",
    "print(np.sum(arr))"
   ]
  },
  {
   "cell_type": "code",
   "execution_count": 14,
   "id": "76f90dd3-5638-4b07-9542-5d704f1da8cc",
   "metadata": {},
   "outputs": [
    {
     "name": "stdout",
     "output_type": "stream",
     "text": [
      "[ 2.5  6.5 10.5]\n"
     ]
    }
   ],
   "source": [
    "# Calculate the mean of each row\n",
    "print(np.mean(arr, axis=1))  "
   ]
  },
  {
   "cell_type": "code",
   "execution_count": 17,
   "id": "ee1bf4cf-e24e-4da0-b045-2b31f882acc2",
   "metadata": {},
   "outputs": [
    {
     "name": "stdout",
     "output_type": "stream",
     "text": [
      "[[ 60  70]\n",
      " [140 166]\n",
      " [220 262]]\n"
     ]
    }
   ],
   "source": [
    "# Calculate the dot product of two matrices\n",
    "b = np.array([[2, 3], [4, 5], [6, 7], [8, 9]])\n",
    "print(np.dot(arr, b))  "
   ]
  },
  {
   "cell_type": "code",
   "execution_count": null,
   "id": "5ccdabc0-b0df-4986-b869-036af1b919b1",
   "metadata": {},
   "outputs": [],
   "source": []
  }
 ],
 "metadata": {
  "kernelspec": {
   "display_name": "Python 3 (ipykernel)",
   "language": "python",
   "name": "python3"
  },
  "language_info": {
   "codemirror_mode": {
    "name": "ipython",
    "version": 3
   },
   "file_extension": ".py",
   "mimetype": "text/x-python",
   "name": "python",
   "nbconvert_exporter": "python",
   "pygments_lexer": "ipython3",
   "version": "3.12.4"
  }
 },
 "nbformat": 4,
 "nbformat_minor": 5
}
