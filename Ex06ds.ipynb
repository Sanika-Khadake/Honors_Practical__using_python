{
 "cells": [
  {
   "cell_type": "code",
   "execution_count": 4,
   "id": "629acc1a-9c18-46e2-a4f4-b4d30c9602b3",
   "metadata": {},
   "outputs": [],
   "source": [
    "#Write a Python program to demonstrate lambda technique\n",
    "import numpy as np\n",
    "import array as arr"
   ]
  },
  {
   "cell_type": "code",
   "execution_count": 7,
   "id": "1ea93efc-f8c1-4b94-8409-4f414a62e588",
   "metadata": {},
   "outputs": [
    {
     "ename": "SyntaxError",
     "evalue": "invalid non-printable character U+00A0 (3970094314.py, line 2)",
     "output_type": "error",
     "traceback": [
      "\u001b[1;36m  Cell \u001b[1;32mIn[7], line 2\u001b[1;36m\u001b[0m\n\u001b[1;33m    add = lambda num: num + 4\u001b[0m\n\u001b[1;37m       ^\u001b[0m\n\u001b[1;31mSyntaxError\u001b[0m\u001b[1;31m:\u001b[0m invalid non-printable character U+00A0\n"
     ]
    }
   ],
   "source": [
    "# Code to demonstrate how we can use a lambda function for adding 4 numbers  \n",
    "add = lambda num: num + 4    \n",
    "print('add:-',add(6))    "
   ]
  },
  {
   "cell_type": "code",
   "execution_count": null,
   "id": "eb87faa2-de22-49a3-bce4-977913ebc455",
   "metadata": {},
   "outputs": [],
   "source": []
  }
 ],
 "metadata": {
  "kernelspec": {
   "display_name": "Python 3 (ipykernel)",
   "language": "python",
   "name": "python3"
  },
  "language_info": {
   "codemirror_mode": {
    "name": "ipython",
    "version": 3
   },
   "file_extension": ".py",
   "mimetype": "text/x-python",
   "name": "python",
   "nbconvert_exporter": "python",
   "pygments_lexer": "ipython3",
   "version": "3.12.4"
  }
 },
 "nbformat": 4,
 "nbformat_minor": 5
}
