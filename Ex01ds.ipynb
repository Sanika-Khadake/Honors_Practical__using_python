{
 "cells": [
  {
   "cell_type": "code",
   "execution_count": 9,
   "id": "d401b0a2-d921-4344-8be1-01d638cc9796",
   "metadata": {},
   "outputs": [],
   "source": [
    "import array as arr"
   ]
  },
  {
   "cell_type": "code",
   "execution_count": 12,
   "id": "c8681f1f-2e5c-4ea1-a05d-242522bb149d",
   "metadata": {},
   "outputs": [],
   "source": [
    "a=arr.array('i',[10,20,30,40,50])"
   ]
  },
  {
   "cell_type": "code",
   "execution_count": 14,
   "id": "eadaa0a7-83c5-4b0d-9620-e922b3ff5665",
   "metadata": {},
   "outputs": [
    {
     "name": "stdout",
     "output_type": "stream",
     "text": [
      "10\n"
     ]
    }
   ],
   "source": [
    "print(a[0])"
   ]
  },
  {
   "cell_type": "code",
   "execution_count": 23,
   "id": "d495f88b-f436-4a22-a9a0-70dcb3a250f2",
   "metadata": {},
   "outputs": [],
   "source": [
    "b=['Sanika','Pratiksha','Shweta','Poonam','dhanu']"
   ]
  },
  {
   "cell_type": "code",
   "execution_count": 24,
   "id": "2411c6dc-bc5f-455f-a072-67a4ab62aaa6",
   "metadata": {},
   "outputs": [
    {
     "name": "stdout",
     "output_type": "stream",
     "text": [
      "['Sanika', 'Pratiksha', 'Shweta', 'Poonam', 'dhanu']\n"
     ]
    }
   ],
   "source": [
    "print(b)"
   ]
  },
  {
   "cell_type": "code",
   "execution_count": 26,
   "id": "07c53e82-1799-4c71-b886-82719dfefb39",
   "metadata": {},
   "outputs": [],
   "source": [
    "d=[2.2,6.2,5.5,630.96,45.6]"
   ]
  },
  {
   "cell_type": "code",
   "execution_count": 27,
   "id": "c1d25447-9653-4dc2-b93e-6edf8de59761",
   "metadata": {},
   "outputs": [],
   "source": [
    "#crete integer array a[1,2,3]\n",
    "a=arr.array('i',[1,2,3])\n"
   ]
  },
  {
   "cell_type": "code",
   "execution_count": 35,
   "id": "a1e15e53-fd64-44c2-9729-b11ac1ba1056",
   "metadata": {},
   "outputs": [
    {
     "name": "stdout",
     "output_type": "stream",
     "text": [
      "1\n",
      "2\n",
      "3\n"
     ]
    }
   ],
   "source": [
    "#display before inserting\n",
    "for i in range(0,3):\n",
    "  print(a[i])"
   ]
  },
  {
   "cell_type": "code",
   "execution_count": 36,
   "id": "8efe68cf-7f78-4cc6-a9fa-183451f3e740",
   "metadata": {},
   "outputs": [],
   "source": [
    "#insert 4 in array a\n",
    "a.insert(3,4)"
   ]
  },
  {
   "cell_type": "code",
   "execution_count": 37,
   "id": "35f120b8-5cdd-43d2-ac5b-735750b4d213",
   "metadata": {},
   "outputs": [
    {
     "name": "stdout",
     "output_type": "stream",
     "text": [
      "0 1\n",
      "1 2\n",
      "2 3\n"
     ]
    }
   ],
   "source": [
    "#display after inserting\n",
    "for i in range(0,3):\n",
    "  print(i,a[i]);"
   ]
  },
  {
   "cell_type": "code",
   "execution_count": 38,
   "id": "22f85334-bc7a-4fa6-ad9f-4fbc6e7e0f62",
   "metadata": {},
   "outputs": [],
   "source": [
    "#create double array\n",
    "b=arr.array('d',[2.5, 3.2, 3.3])"
   ]
  },
  {
   "cell_type": "code",
   "execution_count": 39,
   "id": "3223d54a-5691-4b71-bb2c-caaad29762c4",
   "metadata": {},
   "outputs": [
    {
     "name": "stdout",
     "output_type": "stream",
     "text": [
      "2.5\n",
      "3.2\n",
      "3.3\n"
     ]
    }
   ],
   "source": [
    "#display before inserting\n",
    "for i in range(0,3):\n",
    "  print(b[i])"
   ]
  },
  {
   "cell_type": "code",
   "execution_count": 40,
   "id": "3770e9bd-899d-4480-bd39-8fb65ecca2e7",
   "metadata": {},
   "outputs": [],
   "source": [
    "#insert 4.4 in array d\n",
    "b.insert(3,4)"
   ]
  },
  {
   "cell_type": "code",
   "execution_count": 42,
   "id": "4041287d-f668-4b98-8b74-337f8e23f04f",
   "metadata": {},
   "outputs": [
    {
     "name": "stdout",
     "output_type": "stream",
     "text": [
      "0 2.5\n",
      "1 3.2\n",
      "2 3.3\n"
     ]
    }
   ],
   "source": [
    "#display after inserting\n",
    "for i in range(0,3):\n",
    "  print(i,b[i]);"
   ]
  },
  {
   "cell_type": "code",
   "execution_count": 43,
   "id": "7c459b08-5043-48cb-b403-3e85f9faa8a8",
   "metadata": {},
   "outputs": [
    {
     "name": "stdout",
     "output_type": "stream",
     "text": [
      "array('i', [1, 2, 3, 4, 4, 4, 4])\n"
     ]
    }
   ],
   "source": [
    "print(a)"
   ]
  },
  {
   "cell_type": "code",
   "execution_count": 44,
   "id": "20cb1f2a-e63f-457b-890d-c6b874d503c0",
   "metadata": {},
   "outputs": [
    {
     "name": "stdout",
     "output_type": "stream",
     "text": [
      "array('i', [2, 3, 4])\n"
     ]
    }
   ],
   "source": [
    "print(a[1:4])"
   ]
  },
  {
   "cell_type": "code",
   "execution_count": 45,
   "id": "e1d3ff5c-5b68-498a-8383-13beb809bad7",
   "metadata": {},
   "outputs": [
    {
     "name": "stdout",
     "output_type": "stream",
     "text": [
      "array('i', [1, 2, 3, 4, 4, 4, 4])\n"
     ]
    }
   ],
   "source": [
    "print(a[0:])"
   ]
  },
  {
   "cell_type": "code",
   "execution_count": 46,
   "id": "a495f8ec-0c21-4ede-ae7a-b07be4c5d1b8",
   "metadata": {},
   "outputs": [
    {
     "name": "stdout",
     "output_type": "stream",
     "text": [
      "array('i', [4, 4, 4, 4, 3, 2, 1])\n"
     ]
    }
   ],
   "source": [
    "#in a reverse order\n",
    "print(a[::-1])"
   ]
  },
  {
   "cell_type": "code",
   "execution_count": null,
   "id": "16426ea7-2df7-494a-9cd2-b6904de3d972",
   "metadata": {},
   "outputs": [],
   "source": []
  }
 ],
 "metadata": {
  "kernelspec": {
   "display_name": "Python 3 (ipykernel)",
   "language": "python",
   "name": "python3"
  },
  "language_info": {
   "codemirror_mode": {
    "name": "ipython",
    "version": 3
   },
   "file_extension": ".py",
   "mimetype": "text/x-python",
   "name": "python",
   "nbconvert_exporter": "python",
   "pygments_lexer": "ipython3",
   "version": "3.12.4"
  }
 },
 "nbformat": 4,
 "nbformat_minor": 5
}
