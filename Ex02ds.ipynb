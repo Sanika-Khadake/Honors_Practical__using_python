{
 "cells": [
  {
   "cell_type": "code",
   "execution_count": 1,
   "id": "dea56a1c-00f3-41ca-a3b1-e35b09ee7336",
   "metadata": {},
   "outputs": [],
   "source": [
    "import numpy as np"
   ]
  },
  {
   "cell_type": "code",
   "execution_count": 4,
   "id": "4dd0abb6-71a6-4774-80ad-5aaa682339e1",
   "metadata": {},
   "outputs": [],
   "source": [
    "array1=np.array([1,3,5,7,9])"
   ]
  },
  {
   "cell_type": "code",
   "execution_count": 5,
   "id": "8b1f5444-8ab6-43cc-8818-97e06b01a78a",
   "metadata": {},
   "outputs": [
    {
     "data": {
      "text/plain": [
       "1"
      ]
     },
     "execution_count": 5,
     "metadata": {},
     "output_type": "execute_result"
    }
   ],
   "source": [
    "#Access Array Elements Using Index\n",
    "array1[0]"
   ]
  },
  {
   "cell_type": "code",
   "execution_count": 6,
   "id": "10064d67-55df-45de-8ede-83bc85237442",
   "metadata": {},
   "outputs": [
    {
     "data": {
      "text/plain": [
       "9"
      ]
     },
     "execution_count": 6,
     "metadata": {},
     "output_type": "execute_result"
    }
   ],
   "source": [
    "array1[4]"
   ]
  },
  {
   "cell_type": "code",
   "execution_count": 7,
   "id": "41d845b6-88f8-4266-a231-410ec736fcc4",
   "metadata": {},
   "outputs": [
    {
     "data": {
      "text/plain": [
       "5"
      ]
     },
     "execution_count": 7,
     "metadata": {},
     "output_type": "execute_result"
    }
   ],
   "source": [
    "array[2]"
   ]
  },
  {
   "cell_type": "code",
   "execution_count": 9,
   "id": "0666df54-9b51-44ac-ba78-906b2baaa040",
   "metadata": {},
   "outputs": [
    {
     "ename": "IndexError",
     "evalue": "index 7 is out of bounds for axis 0 with size 5",
     "output_type": "error",
     "traceback": [
      "\u001b[1;31m---------------------------------------------------------------------------\u001b[0m",
      "\u001b[1;31mIndexError\u001b[0m                                Traceback (most recent call last)",
      "Cell \u001b[1;32mIn[9], line 2\u001b[0m\n\u001b[0;32m      1\u001b[0m \u001b[38;5;66;03m#gives error array out of bound\u001b[39;00m\n\u001b[1;32m----> 2\u001b[0m array[\u001b[38;5;241m7\u001b[39m]\n",
      "\u001b[1;31mIndexError\u001b[0m: index 7 is out of bounds for axis 0 with size 5"
     ]
    }
   ],
   "source": [
    "#gives error array out of bound\n",
    "array[7]"
   ]
  },
  {
   "cell_type": "code",
   "execution_count": 10,
   "id": "836dea70-f879-4c4c-8d0b-647fc87ba1de",
   "metadata": {},
   "outputs": [],
   "source": [
    "# create a numpy array\n",
    "numbers = np.array([2, 4, 6, 8, 10])"
   ]
  },
  {
   "cell_type": "code",
   "execution_count": 11,
   "id": "cf8c1571-2b3f-4e02-8a00-101b9f454171",
   "metadata": {},
   "outputs": [
    {
     "name": "stdout",
     "output_type": "stream",
     "text": [
      "After modifying first element: [12  4  6  8 10]\n"
     ]
    }
   ],
   "source": [
    "# change the value of the first element\n",
    "numbers[0] = 12\n",
    "print(\"After modifying first element:\",numbers)   "
   ]
  },
  {
   "cell_type": "code",
   "execution_count": 12,
   "id": "111a29d8-beea-47a2-95f8-bf055d43e9ff",
   "metadata": {},
   "outputs": [
    {
     "name": "stdout",
     "output_type": "stream",
     "text": [
      "After modifying third element: [12  4 14  8 10]\n"
     ]
    }
   ],
   "source": [
    "# change the value of the third element\n",
    "numbers[2] = 14\n",
    "print(\"After modifying third element:\",numbers)  "
   ]
  },
  {
   "cell_type": "code",
   "execution_count": 13,
   "id": "a45c5270-b595-488a-b7fc-9fd362d7bed8",
   "metadata": {},
   "outputs": [],
   "source": [
    "numbers = np.array([1, 3, 5, 7, 9])"
   ]
  },
  {
   "cell_type": "code",
   "execution_count": 14,
   "id": "cb87bc81-d3dd-4551-8edc-bf4b694eebf8",
   "metadata": {},
   "outputs": [
    {
     "name": "stdout",
     "output_type": "stream",
     "text": [
      "9\n"
     ]
    }
   ],
   "source": [
    "# access the last element\n",
    "print(numbers[-1])    "
   ]
  },
  {
   "cell_type": "code",
   "execution_count": 15,
   "id": "587a57e9-f44f-4066-8b2e-b9acd0545fb5",
   "metadata": {},
   "outputs": [
    {
     "name": "stdout",
     "output_type": "stream",
     "text": [
      "7\n"
     ]
    }
   ],
   "source": [
    "# access the second-to-last element\n",
    "print(numbers[-2])   "
   ]
  },
  {
   "cell_type": "code",
   "execution_count": null,
   "id": "71e8dce1-9dcb-4745-b3f3-47b862f19ee3",
   "metadata": {},
   "outputs": [],
   "source": []
  }
 ],
 "metadata": {
  "kernelspec": {
   "display_name": "Python 3 (ipykernel)",
   "language": "python",
   "name": "python3"
  },
  "language_info": {
   "codemirror_mode": {
    "name": "ipython",
    "version": 3
   },
   "file_extension": ".py",
   "mimetype": "text/x-python",
   "name": "python",
   "nbconvert_exporter": "python",
   "pygments_lexer": "ipython3",
   "version": "3.12.4"
  }
 },
 "nbformat": 4,
 "nbformat_minor": 5
}
