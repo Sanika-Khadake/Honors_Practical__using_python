{
 "cells": [
  {
   "cell_type": "code",
   "execution_count": 3,
   "id": "3bae834e-fffb-4b57-97e3-d94e341b9d72",
   "metadata": {},
   "outputs": [],
   "source": [
    "#Write a Python program to import data from Comma Separated Files (CSV) file, manipulate data, and export data in C\n",
    "import csv"
   ]
  },
  {
   "cell_type": "code",
   "execution_count": 4,
   "id": "8a20aa36-ae8e-467c-9b6c-cbfddc89f248",
   "metadata": {},
   "outputs": [],
   "source": [
    "feilds=['name','branch','Year','cgpa']"
   ]
  },
  {
   "cell_type": "code",
   "execution_count": 7,
   "id": "a55e054b-ed02-4d93-80ae-01fe77ea061d",
   "metadata": {},
   "outputs": [],
   "source": [
    "rows=[['nikhil','COE','2','9.0'],\n",
    "      ['sanchita','COE','2','9.1'],\n",
    "      ['Aditya','IT','2','9.3'],\n",
    "      ['sagar','SE','1','9.5'],\n",
    "      ['Prateek','MCE','2','9.0'],\n",
    "      ['Sahil','EP','2','9.1']]"
   ]
  },
  {
   "cell_type": "code",
   "execution_count": 8,
   "id": "c96d49c7-c52d-4d2a-ab84-51ad3092a6de",
   "metadata": {},
   "outputs": [],
   "source": [
    "filename='university_records.csv'"
   ]
  },
  {
   "cell_type": "code",
   "execution_count": 13,
   "id": "d4099243-0a6d-4a90-8bc1-8e86b6e50bb6",
   "metadata": {},
   "outputs": [
    {
     "ename": "SyntaxError",
     "evalue": "incomplete input (394657359.py, line 2)",
     "output_type": "error",
     "traceback": [
      "\u001b[1;36m  Cell \u001b[1;32mIn[13], line 2\u001b[1;36m\u001b[0m\n\u001b[1;33m    with open(filename,'rows')as csvfile:\u001b[0m\n\u001b[1;37m                                         ^\u001b[0m\n\u001b[1;31mSyntaxError\u001b[0m\u001b[1;31m:\u001b[0m incomplete input\n"
     ]
    }
   ],
   "source": [
    "#writting with csv file\n",
    "with open(filename,'rows')as csvfile:"
   ]
  },
  {
   "cell_type": "code",
   "execution_count": 14,
   "id": "1af3610a-86dc-46b9-a24f-a17796b6cee3",
   "metadata": {},
   "outputs": [
    {
     "ename": "NameError",
     "evalue": "name 'csvfile' is not defined",
     "output_type": "error",
     "traceback": [
      "\u001b[1;31m---------------------------------------------------------------------------\u001b[0m",
      "\u001b[1;31mNameError\u001b[0m                                 Traceback (most recent call last)",
      "Cell \u001b[1;32mIn[14], line 1\u001b[0m\n\u001b[1;32m----> 1\u001b[0m csvwriter\u001b[38;5;241m=\u001b[39mcsv\u001b[38;5;241m.\u001b[39mwriter(csvfile)\n",
      "\u001b[1;31mNameError\u001b[0m: name 'csvfile' is not defined"
     ]
    }
   ],
   "source": [
    "csvwriter=csv.writer(csvfile)"
   ]
  },
  {
   "cell_type": "code",
   "execution_count": 16,
   "id": "461065df-1943-43ac-863f-dcb95c4d4860",
   "metadata": {},
   "outputs": [
    {
     "ename": "NameError",
     "evalue": "name 'csvwriter' is not defined",
     "output_type": "error",
     "traceback": [
      "\u001b[1;31m---------------------------------------------------------------------------\u001b[0m",
      "\u001b[1;31mNameError\u001b[0m                                 Traceback (most recent call last)",
      "Cell \u001b[1;32mIn[16], line 1\u001b[0m\n\u001b[1;32m----> 1\u001b[0m csvwriter\u001b[38;5;241m.\u001b[39mwriterow(fields)\n",
      "\u001b[1;31mNameError\u001b[0m: name 'csvwriter' is not defined"
     ]
    }
   ],
   "source": [
    "csvwriter.writerow(fields)"
   ]
  },
  {
   "cell_type": "code",
   "execution_count": 18,
   "id": "26199538-1ce9-4d7c-98cb-28a5d6c21a64",
   "metadata": {},
   "outputs": [
    {
     "ename": "NameError",
     "evalue": "name 'csvwriter' is not defined",
     "output_type": "error",
     "traceback": [
      "\u001b[1;31m---------------------------------------------------------------------------\u001b[0m",
      "\u001b[1;31mNameError\u001b[0m                                 Traceback (most recent call last)",
      "Cell \u001b[1;32mIn[18], line 1\u001b[0m\n\u001b[1;32m----> 1\u001b[0m csvwriter\u001b[38;5;241m.\u001b[39mwrirterows(rows)\n",
      "\u001b[1;31mNameError\u001b[0m: name 'csvwriter' is not defined"
     ]
    }
   ],
   "source": [
    "csvwriter.wrirterows(rows)"
   ]
  },
  {
   "cell_type": "code",
   "execution_count": null,
   "id": "1a4bdccb-2a9c-4309-8fc5-5a11bd479dbf",
   "metadata": {},
   "outputs": [],
   "source": []
  }
 ],
 "metadata": {
  "kernelspec": {
   "display_name": "Python 3 (ipykernel)",
   "language": "python",
   "name": "python3"
  },
  "language_info": {
   "codemirror_mode": {
    "name": "ipython",
    "version": 3
   },
   "file_extension": ".py",
   "mimetype": "text/x-python",
   "name": "python",
   "nbconvert_exporter": "python",
   "pygments_lexer": "ipython3",
   "version": "3.12.4"
  }
 },
 "nbformat": 4,
 "nbformat_minor": 5
}
