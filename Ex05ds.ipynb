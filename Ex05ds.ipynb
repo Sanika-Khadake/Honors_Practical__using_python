{
 "cells": [
  {
   "cell_type": "code",
   "execution_count": 4,
   "id": "4a6168aa-67da-4a69-93d2-aa94c7eb2ca5",
   "metadata": {},
   "outputs": [],
   "source": [
    "#Write a Python program to demonstrate unary and binary operators in Numpy\n",
    "import numpy as np\n",
    "import array as arr"
   ]
  },
  {
   "cell_type": "code",
   "execution_count": 6,
   "id": "583097ec-be38-429d-b6d7-4de7117875bb",
   "metadata": {},
   "outputs": [
    {
     "name": "stdout",
     "output_type": "stream",
     "text": [
      "[ 3  4 -2  5  1 -5 25 -6  9]\n"
     ]
    }
   ],
   "source": [
    "#create array\n",
    "a=np.array([3,4,-2,5,1,-5,25,-6,9])\n",
    "print(a)"
   ]
  },
  {
   "cell_type": "code",
   "execution_count": 8,
   "id": "1bd8aaed-8204-4345-91b1-86536e2c5568",
   "metadata": {},
   "outputs": [
    {
     "name": "stdout",
     "output_type": "stream",
     "text": [
      "[ 4 16 64 25]\n"
     ]
    }
   ],
   "source": [
    "#create array\n",
    "a1=np.array([4,16,64,25])\n",
    "print(a1)"
   ]
  },
  {
   "cell_type": "code",
   "execution_count": 12,
   "id": "f83631f0-b864-4ced-a79b-10fb4e58863d",
   "metadata": {},
   "outputs": [
    {
     "name": "stdout",
     "output_type": "stream",
     "text": [
      "absolute value :- [ 4 16 64 25]\n"
     ]
    }
   ],
   "source": [
    "#working with some unary oparator\n",
    "#absolute value\n",
    "print(f'absolute value :- {np.abs(a1)}')"
   ]
  },
  {
   "cell_type": "code",
   "execution_count": 14,
   "id": "41f729d0-e4bd-404b-b9c6-0f809684ffb6",
   "metadata": {},
   "outputs": [
    {
     "name": "stdout",
     "output_type": "stream",
     "text": [
      "square root value :- [2. 4. 8. 5.]\n"
     ]
    }
   ],
   "source": [
    "#working with some unary oparator\n",
    "#square root value\n",
    "print(f'square root value :- {np.sqrt(a1)}')"
   ]
  },
  {
   "cell_type": "code",
   "execution_count": 16,
   "id": "b53e0abf-f5fc-4784-a523-e48abc4ad64e",
   "metadata": {},
   "outputs": [
    {
     "name": "stdout",
     "output_type": "stream",
     "text": [
      "square value :- [  9  16   4  25   1  25 625  36  81]\n"
     ]
    }
   ],
   "source": [
    "#square value\n",
    "print(f'square value :- {np.square(a)}')"
   ]
  },
  {
   "cell_type": "code",
   "execution_count": 20,
   "id": "ff46840a-babe-40dc-9bd2-90250d7ffda2",
   "metadata": {},
   "outputs": [
    {
     "name": "stdout",
     "output_type": "stream",
     "text": [
      "sine value :- [-0.7568025  -0.28790332  0.92002604 -0.13235175]\n"
     ]
    }
   ],
   "source": [
    "#sine value\n",
    "print(f'sine value :- {np.sin(a1)}')"
   ]
  },
  {
   "cell_type": "code",
   "execution_count": 18,
   "id": "8b6a8787-ca28-485a-ad9d-1a9f36f68485",
   "metadata": {},
   "outputs": [
    {
     "name": "stdout",
     "output_type": "stream",
     "text": [
      "square value :- [-0.65364362 -0.95765948  0.39185723  0.99120281]\n"
     ]
    }
   ],
   "source": [
    "#cos value\n",
    "print(f'cos value :- {np.cos(a1)}')"
   ]
  },
  {
   "cell_type": "code",
   "execution_count": 19,
   "id": "15549483-c55d-402a-9028-90234053b211",
   "metadata": {},
   "outputs": [
    {
     "name": "stdout",
     "output_type": "stream",
     "text": [
      "tan value :- [-0.14254654  1.15782128  2.18503986 -3.38051501  1.55740772  3.38051501\n",
      " -0.13352641  0.29100619 -0.45231566]\n"
     ]
    }
   ],
   "source": [
    "#tan value\n",
    "print(f'tan value :- {np.tan(a)}')"
   ]
  },
  {
   "cell_type": "code",
   "execution_count": 24,
   "id": "06d58dfe-86b0-4792-a1b9-0f9981366159",
   "metadata": {},
   "outputs": [
    {
     "ename": "AttributeError",
     "evalue": "module 'numpy' has no attribute 'Bitwise_and'",
     "output_type": "error",
     "traceback": [
      "\u001b[1;31m---------------------------------------------------------------------------\u001b[0m",
      "\u001b[1;31mAttributeError\u001b[0m                            Traceback (most recent call last)",
      "Cell \u001b[1;32mIn[24], line 2\u001b[0m\n\u001b[0;32m      1\u001b[0m \u001b[38;5;66;03m#square value\u001b[39;00m\n\u001b[1;32m----> 2\u001b[0m \u001b[38;5;28mprint\u001b[39m(\u001b[38;5;124mf\u001b[39m\u001b[38;5;124m'\u001b[39m\u001b[38;5;124msquare value :- \u001b[39m\u001b[38;5;132;01m{\u001b[39;00mnp\u001b[38;5;241m.\u001b[39mBitwise_and(a)\u001b[38;5;132;01m}\u001b[39;00m\u001b[38;5;124m'\u001b[39m)\n",
      "File \u001b[1;32m~\\anaconda03\\Lib\\site-packages\\numpy\\__init__.py:333\u001b[0m, in \u001b[0;36m__getattr__\u001b[1;34m(attr)\u001b[0m\n\u001b[0;32m    330\u001b[0m     \u001b[38;5;124m\"\u001b[39m\u001b[38;5;124mRemoved in NumPy 1.25.0\u001b[39m\u001b[38;5;124m\"\u001b[39m\n\u001b[0;32m    331\u001b[0m     \u001b[38;5;28;01mraise\u001b[39;00m \u001b[38;5;167;01mRuntimeError\u001b[39;00m(\u001b[38;5;124m\"\u001b[39m\u001b[38;5;124mTester was removed in NumPy 1.25.\u001b[39m\u001b[38;5;124m\"\u001b[39m)\n\u001b[1;32m--> 333\u001b[0m \u001b[38;5;28;01mraise\u001b[39;00m \u001b[38;5;167;01mAttributeError\u001b[39;00m(\u001b[38;5;124m\"\u001b[39m\u001b[38;5;124mmodule \u001b[39m\u001b[38;5;132;01m{!r}\u001b[39;00m\u001b[38;5;124m has no attribute \u001b[39m\u001b[38;5;124m\"\u001b[39m\n\u001b[0;32m    334\u001b[0m                      \u001b[38;5;124m\"\u001b[39m\u001b[38;5;132;01m{!r}\u001b[39;00m\u001b[38;5;124m\"\u001b[39m\u001b[38;5;241m.\u001b[39mformat(\u001b[38;5;18m__name__\u001b[39m, attr))\n",
      "\u001b[1;31mAttributeError\u001b[0m: module 'numpy' has no attribute 'Bitwise_and'"
     ]
    }
   ],
   "source": [
    "#square value\n",
    "print(f'square value :- {np.Bitwise_and(a)}')"
   ]
  },
  {
   "cell_type": "code",
   "execution_count": null,
   "id": "91a5d4f4-1966-4563-bee3-a482e9bc702f",
   "metadata": {},
   "outputs": [],
   "source": []
  }
 ],
 "metadata": {
  "kernelspec": {
   "display_name": "Python 3 (ipykernel)",
   "language": "python",
   "name": "python3"
  },
  "language_info": {
   "codemirror_mode": {
    "name": "ipython",
    "version": 3
   },
   "file_extension": ".py",
   "mimetype": "text/x-python",
   "name": "python",
   "nbconvert_exporter": "python",
   "pygments_lexer": "ipython3",
   "version": "3.12.4"
  }
 },
 "nbformat": 4,
 "nbformat_minor": 5
}
