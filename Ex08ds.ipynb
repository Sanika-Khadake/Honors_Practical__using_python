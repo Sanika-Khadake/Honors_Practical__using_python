{
 "cells": [
  {
   "cell_type": "code",
   "execution_count": 1,
   "id": "df40b1f9-8eaa-48cf-b084-405c7360dcef",
   "metadata": {},
   "outputs": [],
   "source": [
    "#Regular expressions and string manipulation in Python\n",
    "import re"
   ]
  },
  {
   "cell_type": "code",
   "execution_count": 15,
   "id": "1839afea-23be-4ab4-8ab5-097f449be798",
   "metadata": {},
   "outputs": [],
   "source": [
    "text='Hello,my email address is ramchandrakhadake1975@gmail.com'\n",
    "pattern=r'\\w+@\\w+\\.\\w+'\n",
    "match=re.match(pattern,text)\n",
    "\n"
   ]
  },
  {
   "cell_type": "code",
   "execution_count": 19,
   "id": "feef358a-a491-4423-a5d1-d6e1fb3dc6c9",
   "metadata": {},
   "outputs": [
    {
     "name": "stdout",
     "output_type": "stream",
     "text": [
      "no match\n"
     ]
    }
   ],
   "source": [
    "if match:\n",
    "     print('Found email address',match.gruop())\n",
    "else :\n",
    "    print('no match')"
   ]
  },
  {
   "cell_type": "code",
   "execution_count": 22,
   "id": "56ec9822-53c8-4cbb-bca6-e0c86c1e8c87",
   "metadata": {},
   "outputs": [
    {
     "name": "stdout",
     "output_type": "stream",
     "text": [
      "Match found!\n"
     ]
    }
   ],
   "source": [
    "text='Hello,my email address is ramchandrakhadake1975@gmail.com'\n",
    "pattern=r'\\w+@\\w+\\.\\w+'\n",
    "search_result=re.search(pattern,text)\n",
    "\n",
    "if search_result:\n",
    "    print(\"Match found!\")"
   ]
  },
  {
   "cell_type": "code",
   "execution_count": 23,
   "id": "6927e341-8548-4a05-9acf-add7c9b1f853",
   "metadata": {},
   "outputs": [
    {
     "name": "stdout",
     "output_type": "stream",
     "text": [
      "['12', '25']\n"
     ]
    }
   ],
   "source": [
    "pattern = r'\\d+'  # matches any digit (one or more times)\n",
    "text = \"There are 12 apples and 25 oranges.\"\n",
    "all_matches = re.findall(pattern, text)\n",
    "\n",
    "print(all_matches)"
   ]
  },
  {
   "cell_type": "code",
   "execution_count": 24,
   "id": "9acef8e9-d187-437b-a494-806896e1b133",
   "metadata": {},
   "outputs": [
    {
     "name": "stdout",
     "output_type": "stream",
     "text": [
      "My phone number is XX-XX-XX.\n"
     ]
    }
   ],
   "source": [
    "pattern = r'\\d+'  # matches digits\n",
    "replacement = 'XX'\n",
    "text = \"My phone number is 123-456-7890.\"\n",
    "new_text = re.sub(pattern, replacement, text)\n",
    "\n",
    "print(new_text)"
   ]
  },
  {
   "cell_type": "code",
   "execution_count": 25,
   "id": "26cb26ee-951f-4bb0-a372-e998699a2773",
   "metadata": {},
   "outputs": [
    {
     "name": "stdout",
     "output_type": "stream",
     "text": [
      "['This', 'is', 'a', 'test.']\n"
     ]
    }
   ],
   "source": [
    "pattern = r'\\s+'  # split by whitespace\n",
    "text = \"This is a test.\"\n",
    "split_text = re.split(pattern, text)\n",
    "\n",
    "print(split_text) "
   ]
  },
  {
   "cell_type": "code",
   "execution_count": 26,
   "id": "e342d01e-a02e-425f-b64d-497e96e93dd4",
   "metadata": {},
   "outputs": [
    {
     "name": "stdout",
     "output_type": "stream",
     "text": [
      "Python is awesome\n",
      "['Python', 'is', 'awesome']\n",
      "Python is awesome\n"
     ]
    }
   ],
   "source": [
    "text = \"  Python is awesome  \"\n",
    "print(text.strip())  \n",
    "\n",
    "word_list = text.split() \n",
    "print(word_list)\n",
    "\n",
    "new_text = \" \".join(word_list)\n",
    "print(new_text)"
   ]
  },
  {
   "cell_type": "code",
   "execution_count": 27,
   "id": "e727cc34-b6ec-49fe-ae29-1b9d18f8175d",
   "metadata": {},
   "outputs": [
    {
     "name": "stdout",
     "output_type": "stream",
     "text": [
      "Words: ['Split', 'this', 'sentence', 'into', 'words']\n"
     ]
    }
   ],
   "source": [
    "pattern = r'\\s+' \n",
    "string = 'Split this sentence into words'\n",
    "words = re.split(pattern, string)\n",
    "print(\"Words:\", words)"
   ]
  },
  {
   "cell_type": "code",
   "execution_count": 28,
   "id": "d345cc1b-6ec3-4373-9ec6-cd268b57d39e",
   "metadata": {},
   "outputs": [
    {
     "name": "stdout",
     "output_type": "stream",
     "text": [
      "New string: The dog sat on the mat.\n"
     ]
    }
   ],
   "source": [
    "pattern = r'cat'\n",
    "string = 'The cat sat on the mat.'\n",
    "new_string = re.sub(pattern, 'dog', string)\n",
    "print(\"New string:\", new_string)"
   ]
  },
  {
   "cell_type": "code",
   "execution_count": 29,
   "id": "3fd273ad-5205-4c54-9976-d4e94c698bb4",
   "metadata": {},
   "outputs": [
    {
     "name": "stdout",
     "output_type": "stream",
     "text": [
      "Numbers found: ['3', '5', '12']\n"
     ]
    }
   ],
   "source": [
    "pattern = r'\\d+'  # Find all sequences of digits\n",
    "string = 'There are 3 cats, 5 dogs, and 12 birds.'\n",
    "matches = re.findall(pattern, string)\n",
    "print(\"Numbers found:\", matches)"
   ]
  },
  {
   "cell_type": "code",
   "execution_count": null,
   "id": "d524b7bc-22bc-4616-a22d-5cf1bddcc5f8",
   "metadata": {},
   "outputs": [],
   "source": []
  }
 ],
 "metadata": {
  "kernelspec": {
   "display_name": "Python 3 (ipykernel)",
   "language": "python",
   "name": "python3"
  },
  "language_info": {
   "codemirror_mode": {
    "name": "ipython",
    "version": 3
   },
   "file_extension": ".py",
   "mimetype": "text/x-python",
   "name": "python",
   "nbconvert_exporter": "python",
   "pygments_lexer": "ipython3",
   "version": "3.12.4"
  }
 },
 "nbformat": 4,
 "nbformat_minor": 5
}
